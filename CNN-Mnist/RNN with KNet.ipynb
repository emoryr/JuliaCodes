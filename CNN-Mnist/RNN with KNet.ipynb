{
 "cells": [
  {
   "cell_type": "markdown",
   "metadata": {},
   "source": [
    "Code from: https://github.com/denizyuret/Knet.jl\n",
    "https://github.com/denizyuret/IAP2019/blob/master/06.rnn.ipynb"
   ]
  },
  {
   "cell_type": "code",
   "execution_count": 1,
   "metadata": {},
   "outputs": [
    {
     "name": "stdout",
     "output_type": "stream",
     "text": [
      "\u001b[32m\u001b[1m  Updating\u001b[22m\u001b[39m registry at `~/.julia/registries/General`\n",
      "\u001b[32m\u001b[1m  Updating\u001b[22m\u001b[39m git-repo `https://github.com/JuliaRegistries/General.git`\n",
      "\u001b[2K\u001b[?25h[1mFetching:\u001b[22m\u001b[39m [========================================>]  100.0 %.0 %\u001b[32m\u001b[1m Resolving\u001b[22m\u001b[39m package versions...\n",
      "\u001b[32m\u001b[1m Installed\u001b[22m\u001b[39m ProgressMeter ─ v1.3.2\n",
      "\u001b[32m\u001b[1m  Updating\u001b[22m\u001b[39m `~/.julia/environments/v1.0/Project.toml`\n",
      " \u001b[90m [92933f4c]\u001b[39m\u001b[92m + ProgressMeter v1.3.2\u001b[39m\n",
      "\u001b[32m\u001b[1m  Updating\u001b[22m\u001b[39m `~/.julia/environments/v1.0/Manifest.toml`\n",
      " \u001b[90m [92933f4c]\u001b[39m\u001b[92m + ProgressMeter v1.3.2\u001b[39m\n",
      "\u001b[32m\u001b[1m Resolving\u001b[22m\u001b[39m package versions...\n",
      "\u001b[32m\u001b[1m Installed\u001b[22m\u001b[39m Plots ─────────── v1.0.14\n",
      "\u001b[32m\u001b[1m Installed\u001b[22m\u001b[39m Showoff ───────── v0.3.1\n",
      "\u001b[32m\u001b[1m Installed\u001b[22m\u001b[39m RecipesBase ───── v1.0.2\n",
      "\u001b[32m\u001b[1m Installed\u001b[22m\u001b[39m PlotUtils ─────── v0.6.5\n",
      "\u001b[32m\u001b[1m Installed\u001b[22m\u001b[39m GR ────────────── v0.48.0\n",
      "\u001b[32m\u001b[1m Installed\u001b[22m\u001b[39m Measures ──────── v0.3.1\n",
      "\u001b[32m\u001b[1m Installed\u001b[22m\u001b[39m PlotThemes ────── v1.0.3\n",
      "\u001b[32m\u001b[1m Installed\u001b[22m\u001b[39m FFMPEG ────────── v0.2.4\n",
      "\u001b[32m\u001b[1m Installed\u001b[22m\u001b[39m RecipesPipeline ─ v0.1.12\n",
      "\u001b[32m\u001b[1m Installed\u001b[22m\u001b[39m GeometryTypes ─── v0.8.3\n",
      "\u001b[32m\u001b[1m Installed\u001b[22m\u001b[39m Contour ───────── v0.5.4\n",
      "\u001b[32m\u001b[1m  Updating\u001b[22m\u001b[39m `~/.julia/environments/v1.0/Project.toml`\n",
      " \u001b[90m [91a5bcdd]\u001b[39m\u001b[92m + Plots v1.0.14\u001b[39m\n",
      "\u001b[32m\u001b[1m  Updating\u001b[22m\u001b[39m `~/.julia/environments/v1.0/Manifest.toml`\n",
      " \u001b[90m [d38c429a]\u001b[39m\u001b[92m + Contour v0.5.4\u001b[39m\n",
      " \u001b[90m [c87230d0]\u001b[39m\u001b[92m + FFMPEG v0.2.4\u001b[39m\n",
      " \u001b[90m [28b8d3ca]\u001b[39m\u001b[92m + GR v0.48.0\u001b[39m\n",
      " \u001b[90m [4d00f742]\u001b[39m\u001b[92m + GeometryTypes v0.8.3\u001b[39m\n",
      " \u001b[90m [442fdcdd]\u001b[39m\u001b[92m + Measures v0.3.1\u001b[39m\n",
      " \u001b[90m [ccf2f8ad]\u001b[39m\u001b[92m + PlotThemes v1.0.3\u001b[39m\n",
      " \u001b[90m [995b91a9]\u001b[39m\u001b[92m + PlotUtils v0.6.5\u001b[39m\n",
      " \u001b[90m [91a5bcdd]\u001b[39m\u001b[92m + Plots v1.0.14\u001b[39m\n",
      " \u001b[90m [3cdcf5f2]\u001b[39m\u001b[92m + RecipesBase v1.0.2\u001b[39m\n",
      " \u001b[90m [01d81517]\u001b[39m\u001b[92m + RecipesPipeline v0.1.12\u001b[39m\n",
      " \u001b[90m [992d4aef]\u001b[39m\u001b[92m + Showoff v0.3.1\u001b[39m\n",
      "\u001b[32m\u001b[1m  Building\u001b[22m\u001b[39m GR ────→ `~/.julia/packages/GR/yMV3y/deps/build.log`\n",
      "\u001b[32m\u001b[1m  Building\u001b[22m\u001b[39m FFMPEG → `~/.julia/packages/FFMPEG/guN1x/deps/build.log`\n",
      "\u001b[32m\u001b[1m  Building\u001b[22m\u001b[39m Plots ─→ `~/.julia/packages/Plots/8GUYs/deps/build.log`\n"
     ]
    }
   ],
   "source": [
    "using Pkg\n",
    "for p in (\"Knet\",\"ProgressMeter\",\"Plots\")\n",
    "    haskey(Pkg.installed(),p) || Pkg.add(p)\n",
    "end"
   ]
  },
  {
   "cell_type": "code",
   "execution_count": 2,
   "metadata": {},
   "outputs": [
    {
     "name": "stdout",
     "output_type": "stream",
     "text": [
      "\u001b[32m\u001b[1m Resolving\u001b[22m\u001b[39m package versions...\n",
      "\u001b[32m\u001b[1m  Updating\u001b[22m\u001b[39m `~/.julia/environments/v1.0/Project.toml`\n",
      " \u001b[90m [a5390f91]\u001b[39m\u001b[92m + ZipFile v0.8.4\u001b[39m\n",
      "\u001b[32m\u001b[1m  Updating\u001b[22m\u001b[39m `~/.julia/environments/v1.0/Manifest.toml`\n",
      "\u001b[90m [no changes]\u001b[39m\n",
      "\u001b[32m\u001b[1m Resolving\u001b[22m\u001b[39m package versions...\n",
      "\u001b[32m\u001b[1m  Updating\u001b[22m\u001b[39m `~/.julia/environments/v1.0/Project.toml`\n",
      " \u001b[90m [033835bb]\u001b[39m\u001b[92m + JLD2 v0.1.14\u001b[39m\n",
      "\u001b[32m\u001b[1m  Updating\u001b[22m\u001b[39m `~/.julia/environments/v1.0/Manifest.toml`\n",
      "\u001b[90m [no changes]\u001b[39m\n",
      "\u001b[32m\u001b[1m Resolving\u001b[22m\u001b[39m package versions...\n",
      "\u001b[32m\u001b[1m  Updating\u001b[22m\u001b[39m `~/.julia/environments/v1.0/Project.toml`\n",
      " \u001b[90m [5789e2e9]\u001b[39m\u001b[92m + FileIO v1.4.1\u001b[39m\n",
      "\u001b[32m\u001b[1m  Updating\u001b[22m\u001b[39m `~/.julia/environments/v1.0/Manifest.toml`\n",
      "\u001b[90m [no changes]\u001b[39m\n"
     ]
    },
    {
     "name": "stderr",
     "output_type": "stream",
     "text": [
      "  % Total    % Received % Xferd  Average Speed   Time    Time     Time  Current\n",
      "                                 Dload  Upload   Total   Spent    Left  Speed\n",
      "100 3236k  100 3236k    0     0  1523k      0  0:00:02  0:00:02 --:--:-- 1523k\n"
     ]
    },
    {
     "name": "stdout",
     "output_type": "stream",
     "text": [
      "The Brown Corpus has 57340 sentences, 1161192 tokens, with a word vocabulary of 56057 and a tag vocabulary of 472.\n"
     ]
    }
   ],
   "source": [
    "using Knet: Knet\n",
    "include(Knet.dir(\"data/nltk.jl\"))\n",
    "(data,words,tags) = brown()\n",
    "println(\"The Brown Corpus has $(length(data)) sentences, $(sum(length(p[1]) for p in data)) tokens, with a word vocabulary of $(length(words)) and a tag vocabulary of $(length(tags)).\")"
   ]
  },
  {
   "cell_type": "code",
   "execution_count": 3,
   "metadata": {},
   "outputs": [
    {
     "data": {
      "text/plain": [
       "(\"57340-element Array{Tuple{Array{UInt16,1},Array{UInt16,1}},1}\", \"56057-element Array{String,1}\", \"472-element Array{String,1}\")"
      ]
     },
     "execution_count": 3,
     "metadata": {},
     "output_type": "execute_result"
    }
   ],
   "source": [
    "summary.((data,words,tags))"
   ]
  },
  {
   "cell_type": "code",
   "execution_count": 36,
   "metadata": {},
   "outputs": [
    {
     "data": {
      "text/plain": [
       "25-element Array{UInt16,1}:\n",
       " 0x000f\n",
       " 0x16e4\n",
       " 0x0510\n",
       " 0x15dd\n",
       " 0x443c\n",
       " 0x003c\n",
       " 0x075e\n",
       " 0x0023\n",
       " 0x0a31\n",
       " 0x0004\n",
       " 0x456e\n",
       " 0x0254\n",
       " 0x0491\n",
       " 0x05fc\n",
       " 0x04bc\n",
       " 0x000d\n",
       " 0x0044\n",
       " 0x01de\n",
       " 0x000e\n",
       " 0x0009\n",
       " 0x0055\n",
       " 0x2714\n",
       " 0x00dd\n",
       " 0x00bd\n",
       " 0x0003"
      ]
     },
     "execution_count": 36,
     "metadata": {},
     "output_type": "execute_result"
    }
   ],
   "source": [
    "data[1][1]"
   ]
  },
  {
   "cell_type": "code",
   "execution_count": 28,
   "metadata": {},
   "outputs": [
    {
     "data": {
      "text/plain": [
       "2×25 Array{UInt16,2}:\n",
       " 0x000f  0x16e4  0x0510  0x15dd  0x443c  0x003c  0x075e  …  0x000e  0x0009  0x0055  0x2714  0x00dd  0x00bd  0x0003\n",
       " 0x0003  0x0028  0x0015  0x0027  0x0015  0x000d  0x003a     0x001d  0x000e  0x002e  0x0007  0x000d  0x0001  0x0005"
      ]
     },
     "metadata": {},
     "output_type": "display_data"
    },
    {
     "data": {
      "text/plain": [
       "2×25 Array{String,2}:\n",
       " \"The\"  \"Fulton\"  \"County\"  \"Grand\"  \"Jury\"   \"said\"  …  \"that\"  \"any\"  \"irregularities\"  \"took\"  \"place\"  \".\"\n",
       " \"at\"   \"np-tl\"   \"nn-tl\"   \"jj-tl\"  \"nn-tl\"  \"vbd\"      \"cs\"    \"dti\"  \"nns\"             \"vbd\"   \"nn\"     \".\""
      ]
     },
     "metadata": {},
     "output_type": "display_data"
    }
   ],
   "source": [
    "ENV[\"COLUMNS\"]=120\n",
    "(w,t) = first(data)\n",
    "display(permutedims([w t]))\n",
    "display(permutedims([words[w] tags[t]]))"
   ]
  },
  {
   "cell_type": "code",
   "execution_count": 5,
   "metadata": {},
   "outputs": [],
   "source": [
    "using Knet: param\n",
    "struct Embed; w; end\n",
    "Embed(vocabsize::Int,embedsize::Int) = Embed(param(embedsize,vocabsize))\n",
    "(e::Embed)(x) = e.w[:,x]"
   ]
  },
  {
   "cell_type": "code",
   "execution_count": 6,
   "metadata": {},
   "outputs": [
    {
     "data": {
      "text/plain": [
       "1×7 Array{String,2}:\n",
       " \"Rapping\"  \"the\"  \"stick\"  \"against\"  \"the\"  \"desk\"  \".\""
      ]
     },
     "metadata": {},
     "output_type": "display_data"
    },
    {
     "data": {
      "text/plain": [
       "1×7 Array{UInt16,2}:\n",
       " 0xbb1c  0x0001  0x0bc6  0x00a3  0x0001  0x06b7  0x0003"
      ]
     },
     "metadata": {},
     "output_type": "display_data"
    },
    {
     "data": {
      "text/plain": [
       "8×7 Array{Float32,2}:\n",
       "  0.00567037   0.008474      0.00662631  -0.00901087   0.008474      0.00311569    0.00695813\n",
       " -0.00838005  -0.00880567    0.00461481  -0.0103032   -0.00880567   -0.000887158   0.00108732\n",
       "  0.0099913    0.00958763   -0.00374042   0.00526158   0.00958763   -0.00262525    0.00929186\n",
       "  0.00726531   0.000871422   0.00169646   0.00914014   0.000871422   0.00804647   -0.00684638\n",
       " -0.0099764   -0.0090244     0.00252914  -0.0078729   -0.0090244    -0.00889658   -0.00204566\n",
       " -0.0040813    0.000194906  -0.0053435    0.00161934   0.000194906  -0.00830476    0.00421359\n",
       "  0.00981257   0.00908034    0.00155301   0.00159139   0.00908034    0.00593248   -0.00658478\n",
       "  0.0019101   -0.00132115    0.00758135   0.00307811  -0.00132115   -0.00469745   -0.00906562"
      ]
     },
     "metadata": {},
     "output_type": "display_data"
    }
   ],
   "source": [
    "embedlayer = Embed(length(words),8)\n",
    "(w,t) = data[52855]\n",
    "display(permutedims(words[w]))\n",
    "display(permutedims(w))\n",
    "display(embedlayer(w))"
   ]
  },
  {
   "cell_type": "code",
   "execution_count": 7,
   "metadata": {},
   "outputs": [],
   "source": [
    "# Fully connected (Linear) layer with optional activation function at the end\n",
    "struct FC; w; b; f; end\n",
    "FC(input::Int,output::Int,f=identity) = FC(param(output,input),param(output),f)\n",
    "reshape2d(x) = reshape(x,(size(x,1),:))\n",
    "(fc::FC)(x;o...) = fc.f.(fc.w * reshape2d(x) .+ fc.b)"
   ]
  },
  {
   "cell_type": "code",
   "execution_count": 8,
   "metadata": {},
   "outputs": [],
   "source": [
    "\n",
    "# TODO: define these manually, for now just check out @doc RNN\n",
    "using Knet: RNN"
   ]
  },
  {
   "cell_type": "code",
   "execution_count": 9,
   "metadata": {},
   "outputs": [],
   "source": [
    "using Knet: relu"
   ]
  },
  {
   "cell_type": "code",
   "execution_count": 10,
   "metadata": {},
   "outputs": [],
   "source": [
    "\n",
    "# A chain of layers\n",
    "struct Chain; layers; end\n",
    "Chain(layer1,layer2,layers...)=Chain((layer1,layer2,layers...))\n",
    "(c::Chain)(x;o...) = (for l in c.layers; x = l(x;o...); end; x)"
   ]
  },
  {
   "cell_type": "code",
   "execution_count": 11,
   "metadata": {},
   "outputs": [],
   "source": [
    "Tagger1(vocab,embed,hidden,output)=  # RNN Tagger\n",
    "    Chain(Embed(vocab,embed),RNN(embed,hidden,rnnType=:relu),FC(hidden,output))\n",
    "Tagger2(vocab,embed,hidden,output)=  # biRNN Tagger\n",
    "    Chain(Embed(vocab,embed),RNN(embed,hidden,rnnType=:relu,bidirectional=true),FC(2hidden,output));"
   ]
  },
  {
   "cell_type": "code",
   "execution_count": 12,
   "metadata": {},
   "outputs": [],
   "source": [
    "BATCHSIZE = 64\n",
    "SEQLENGTH = 32;"
   ]
  },
  {
   "cell_type": "code",
   "execution_count": 13,
   "metadata": {},
   "outputs": [],
   "source": [
    "\n",
    "function seqbatch(x,y,B,T)\n",
    "    N = length(x) ÷ B\n",
    "    x = permutedims(reshape(x[1:N*B],N,B))\n",
    "    y = permutedims(reshape(y[1:N*B],N,B))\n",
    "    d = []; for i in 0:T:N-T\n",
    "        push!(d, (x[:,i+1:i+T], y[:,i+1:i+T]))\n",
    "    end\n",
    "    return d\n",
    "end\n",
    "allw = vcat((x->x[1]).(data)...)\n",
    "allt = vcat((x->x[2]).(data)...)\n",
    "d = seqbatch(allw, allt, BATCHSIZE, SEQLENGTH);"
   ]
  },
  {
   "cell_type": "code",
   "execution_count": 14,
   "metadata": {},
   "outputs": [
    {
     "data": {
      "text/plain": [
       "64×32 Array{String,2}:\n",
       " \"The\"              \"Fulton\"    \"County\"         \"Grand\"        …  \"in\"         \"term-end\"     \"presentments\" \n",
       " \"director\"         \"of\"        \"architecture\"   \"and\"             \"accepting\"  \"gifts\"        \"from\"         \n",
       " \"local\"            \"club\"      \"to\"             \"import\"          \",\"          \"who\"          \"will\"         \n",
       " \".\"                \"The\"       \"judge\"          \"replaced\"        \"opening\"    \"of\"           \"the\"          \n",
       " \"plans\"            \"titled\"    \"``\"             \"Threshold\"       \"Kong\"       \"this\"         \"fall\"         \n",
       " \"admitted\"         \"for\"       \"next\"           \"fall\"         …  \"interview\"  \"''\"           \".\"            \n",
       " \"American\"         \"system\"    \"?\"              \"?\"               \"the\"        \"patriotic\"    \"apprehensions\"\n",
       " \"of\"               \"the\"       \"King\"           \"James\"           \"``\"         \"Then\"         \"cometh\"       \n",
       " \"the\"              \"misdeeds\"  \"of\"             \"his\"             \"he\"         \"is\"           \"entitled\"     \n",
       " \"entertaining\"     \"and\"       \"irresponsible\"  \"novels\"          \"take\"       \"from\"         \"these\"        \n",
       " \"is\"               \"merely\"    \"more\"           \"mindful\"      …  \"slavish\"    \"to\"           \"the\"          \n",
       " \"is\"               \"not\"       \"only\"           \"unnecessary\"     \"bloc\"       \"that\"         \"any\"          \n",
       " \"has\"              \"said\"      \":\"              \"``\"              \"is\"         \"important\"    \"that\"         \n",
       " ⋮                                                              ⋱               ⋮                             \n",
       " \".\"                \"But\"       \",\"              \"of\"              \"hell\"       \"would\"        \"I\"            \n",
       " \"not\"              \"worth\"     \"the\"            \"trouble\"         \"Faith\"      \"Constable's\"  \"explanation\"  \n",
       " \",\"                \"I\"         \"don't\"          \"hold\"            \"she\"        \"carries\"      \",\"            \n",
       " \"not\"              \"hurt\"      \".\"              \"The\"          …  \"so\"         \"happy\"        \"to\"           \n",
       " \"you\"              \"do\"        \"''\"             \".\"               \"sent\"       \"away\"         \".\"            \n",
       " \"west\"             \",\"         \"the\"            \"dark\"            \".\"          \"Water\"        \"splashed\"     \n",
       " \"caught\"           \"sight\"     \"of\"             \"his\"             \"talking\"    \"rapidly\"      \".\"            \n",
       " \"city\"             \".\"         \"Sameness\"       \"lined\"           \"porches\"    \".\"            \"It\"           \n",
       " \"her\"              \"life\"      \"and\"            \"take\"         …  \"let\"        \"him\"          \"lead\"         \n",
       " \"dog\"              \".\"         \"What\"           \"kind\"            \",\"          \"that's\"       \"the\"          \n",
       " \"what's-his-name\"  \"got\"       \"a\"              \"sunburn\"         \"Charlie\"    \"spent\"        \"the\"          \n",
       " \"solid\"            \",\"         \"unrelieved\"     \"black\"           \"could\"      \"dislike\"      \"them\"         "
      ]
     },
     "execution_count": 14,
     "metadata": {},
     "output_type": "execute_result"
    }
   ],
   "source": [
    "(x,y) = first(d)\n",
    "words[x]"
   ]
  },
  {
   "cell_type": "code",
   "execution_count": 15,
   "metadata": {},
   "outputs": [
    {
     "data": {
      "text/plain": [
       "\"128×64×32 Array{Float32,3}\""
      ]
     },
     "execution_count": 15,
     "metadata": {},
     "output_type": "execute_result"
    }
   ],
   "source": [
    "embedlayer = Embed(length(words),128)\n",
    "summary(embedlayer(x))"
   ]
  },
  {
   "cell_type": "code",
   "execution_count": 16,
   "metadata": {},
   "outputs": [
    {
     "data": {
      "text/plain": [
       "(556, 10)"
      ]
     },
     "execution_count": 16,
     "metadata": {},
     "output_type": "execute_result"
    }
   ],
   "source": [
    "# shuffle and split minibatches into train and test portions\n",
    "using Random; shuffle!(d)\n",
    "dtst = d[1:10]\n",
    "dtrn = d[11:end]\n",
    "length.((dtrn,dtst))"
   ]
  },
  {
   "cell_type": "code",
   "execution_count": 17,
   "metadata": {},
   "outputs": [
    {
     "name": "stderr",
     "output_type": "stream",
     "text": [
      "┌ Info: Precompiling ProgressMeter [92933f4c-e287-5a05-a399-4b506db050ca]\n",
      "└ @ Base loading.jl:1192\n"
     ]
    },
    {
     "data": {
      "text/plain": [
       "trainresults (generic function with 1 method)"
      ]
     },
     "execution_count": 17,
     "metadata": {},
     "output_type": "execute_result"
    }
   ],
   "source": [
    "\n",
    "# For running experiments\n",
    "using Knet: train!, nll, zeroone, Adam, AutoGrad\n",
    "import ProgressMeter\n",
    "\n",
    "function trainresults(file,model; o...)\n",
    "    if (print(\"Train from scratch? \");readline()[1]=='y')\n",
    "        results = Float64[]; updates = 0; prog = ProgressMeter.Progress(2500)\n",
    "        function callback(J)\n",
    "            if updates % 100 == 0\n",
    "                push!(results, nll(model,dtst), zeroone(model,dtst))\n",
    "                ProgressMeter.update!(prog, updates)\n",
    "            end\n",
    "            return (updates += 1) <= 2500\n",
    "        end\n",
    "        train!(model, dtrn; callback=callback, optimizer=Adam(), o...)\n",
    "        results = reshape(results,(2,:))\n",
    "        Knet.gc()\n",
    "        Knet.save(file,\"model\",model,\"results\",results)\n",
    "    else\n",
    "        isfile(file) || download(\"http://people.csail.mit.edu/deniz/models/tutorial/$file\",file)\n",
    "        model,results = Knet.load(file,\"model\",\"results\")\n",
    "    end\n",
    "    println(minimum(results,dims=2))\n",
    "    return (model,results)\n",
    "end"
   ]
  },
  {
   "cell_type": "code",
   "execution_count": 18,
   "metadata": {},
   "outputs": [],
   "source": [
    "VOCABSIZE = length(words)\n",
    "EMBEDSIZE = 128\n",
    "HIDDENSIZE = 128\n",
    "OUTPUTSIZE = length(tags);"
   ]
  },
  {
   "cell_type": "code",
   "execution_count": 19,
   "metadata": {},
   "outputs": [
    {
     "name": "stdout",
     "output_type": "stream",
     "text": [
      "Train from scratch? stdin> y\n"
     ]
    },
    {
     "name": "stderr",
     "output_type": "stream",
     "text": [
      "┌ Warning: train! is deprecated, use sgd!, adam! etc. instead.\n",
      "└ @ Knet /home/emoryfreitas/.julia/packages/Knet/bTNMd/src/train.jl:126\n",
      "\u001b[32mProgress: 100%|█████████████████████████████████████████| Time: 0:18:35\u001b[39m\n"
     ]
    },
    {
     "name": "stdout",
     "output_type": "stream",
     "text": [
      "[0.246194; 0.0680176]\n"
     ]
    }
   ],
   "source": [
    "(t1,r1) = trainresults(\"tagger1.jld2\",Tagger1(VOCABSIZE,EMBEDSIZE,HIDDENSIZE,OUTPUTSIZE));"
   ]
  },
  {
   "cell_type": "code",
   "execution_count": 20,
   "metadata": {},
   "outputs": [
    {
     "name": "stdout",
     "output_type": "stream",
     "text": [
      "Train from scratch? stdin> y\n"
     ]
    },
    {
     "name": "stderr",
     "output_type": "stream",
     "text": [
      "\u001b[32mProgress: 100%|█████████████████████████████████████████| Time: 0:20:46\u001b[39m\n"
     ]
    },
    {
     "name": "stdout",
     "output_type": "stream",
     "text": [
      "[0.18349; 0.0484863]\n"
     ]
    }
   ],
   "source": [
    "(t2,r2) = trainresults(\"tagger2.jld2\",Tagger2(VOCABSIZE,EMBEDSIZE,HIDDENSIZE,OUTPUTSIZE));"
   ]
  },
  {
   "cell_type": "code",
   "execution_count": 21,
   "metadata": {},
   "outputs": [
    {
     "name": "stderr",
     "output_type": "stream",
     "text": [
      "┌ Info: Precompiling Plots [91a5bcdd-55d7-5caf-9e0b-520d859cae80]\n",
      "└ @ Base loading.jl:1192\n"
     ]
    }
   ],
   "source": [
    "using Plots; default(fmt=:png,ls=:auto,ymirror=true)"
   ]
  },
  {
   "cell_type": "code",
   "execution_count": 22,
   "metadata": {},
   "outputs": [
    {
     "data": {
      "image/png": "[encoded data removed]"
     },
     "execution_count": 22,
     "metadata": {},
     "output_type": "execute_result"
    }
   ],
   "source": [
    "plot([r1[2,:], r2[2,:]]; xlabel=\"x100 updates\", ylabel=\"error\",\n",
    "    ylim=(0,0.15), yticks=0:0.01:0.15, labels=[\"RNN\",\"biRNN\"])"
   ]
  },
  {
   "cell_type": "code",
   "execution_count": 23,
   "metadata": {},
   "outputs": [
    {
     "data": {
      "text/plain": [
       "tag (generic function with 1 method)"
      ]
     },
     "execution_count": 23,
     "metadata": {},
     "output_type": "execute_result"
    }
   ],
   "source": [
    "\n",
    "wdict=Dict{String,UInt16}(); for (i,w) in enumerate(words); wdict[w]=i; end\n",
    "unk = UInt16(length(words))\n",
    "wid(w) = get(wdict,w,unk)\n",
    "function tag(tagger,s::String)\n",
    "    w = permutedims(split(s))\n",
    "    t = tags[(x->x[1]).(argmax(Array(tagger(wid.(w))),dims=1))]\n",
    "    vcat(w,t)\n",
    "end"
   ]
  },
  {
   "cell_type": "code",
   "execution_count": 26,
   "metadata": {},
   "outputs": [
    {
     "name": "stdout",
     "output_type": "stream",
     "text": [
      "stdin> i don't know what I am typing\n"
     ]
    },
    {
     "data": {
      "text/plain": [
       "2×7 Array{AbstractString,2}:\n",
       " \"i\"   \"don't\"  \"know\"  \"what\"  \"I\"     \"am\"   \"typing\"\n",
       " \"nn\"  \"do*\"    \"vb\"    \"wdt\"   \"ppss\"  \"bem\"  \"vbg\"   "
      ]
     },
     "execution_count": 26,
     "metadata": {},
     "output_type": "execute_result"
    }
   ],
   "source": [
    "tag(t2,readline())"
   ]
  }
 ],
 "metadata": {
  "kernelspec": {
   "display_name": "Julia 1.0.5",
   "language": "julia",
   "name": "julia-1.0"
  },
  "language_info": {
   "file_extension": ".jl",
   "mimetype": "application/julia",
   "name": "julia",
   "version": "1.0.5"
  }
 },
 "nbformat": 4,
 "nbformat_minor": 4
}
