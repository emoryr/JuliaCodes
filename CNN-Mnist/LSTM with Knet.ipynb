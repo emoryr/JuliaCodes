{
 "cells": [
  {
   "cell_type": "code",
   "execution_count": 6,
   "metadata": {},
   "outputs": [
    {
     "name": "stderr",
     "output_type": "stream",
     "text": [
      "┌ Info: Precompiling ArgParse [c7e460c6-2fb9-53a9-8c5b-16f535851c63]\n",
      "└ @ Base loading.jl:1192\n",
      "┌ Info: Precompiling MLDatasets [eb30cadb-4394-5ae3-aed4-317e484a6458]\n",
      "└ @ Base loading.jl:1192\n"
     ]
    }
   ],
   "source": [
    "using Knet, ArgParse, Dates, Printf, Random, MLDatasets"
   ]
  },
  {
   "cell_type": "code",
   "execution_count": 7,
   "metadata": {},
   "outputs": [
    {
     "data": {
      "text/plain": [
       "initweights (generic function with 2 methods)"
      ]
     },
     "execution_count": 7,
     "metadata": {},
     "output_type": "execute_result"
    }
   ],
   "source": [
    "function initweights(atype, hidden, words, labels, embed, winit=0.01)\n",
    "    w = Array{Any}(undef,9)\n",
    "    w[1] = winit*randn(3*hidden, embed)\n",
    "    w[2] = zeros(3*hidden, 1)\n",
    "    w[3] = winit*randn(3*hidden, 2*hidden)\n",
    "    w[4] = zeros(3*hidden, 1)\n",
    "    w[5] = winit*randn(hidden, hidden)\n",
    "    w[6] = winit*randn(hidden, hidden)\n",
    "    w[7] = ones(hidden,1)\n",
    "    w[8] = winit*randn(labels, hidden)\n",
    "    w[9] = winit*randn(embed, words)\n",
    "    return map(i->convert(atype, i), w)\n",
    "end"
   ]
  },
  {
   "cell_type": "code",
   "execution_count": 8,
   "metadata": {},
   "outputs": [
    {
     "data": {
      "text/plain": [
       "lstm (generic function with 1 method)"
      ]
     },
     "execution_count": 8,
     "metadata": {},
     "output_type": "execute_result"
    }
   ],
   "source": [
    "function lstm(w,ind)\n",
    "    x = w[end][:,ind]\n",
    "    x = reshape(x, length(x), 1)\n",
    "    hsize = size(x,1)\n",
    "    gates = w[1] * x .+ w[2]\n",
    "    i = sigm.(gates[1:hsize,:])\n",
    "    o = sigm.(gates[1+hsize:2hsize,:])\n",
    "    u = sigm.(gates[1+2hsize:3hsize,:])\n",
    "    c = i .* u\n",
    "    h = o .* tanh.(c)\n",
    "    return (h,c)\n",
    "end"
   ]
  },
  {
   "cell_type": "code",
   "execution_count": 9,
   "metadata": {},
   "outputs": [
    {
     "data": {
      "text/plain": [
       "slstm (generic function with 1 method)"
      ]
     },
     "execution_count": 9,
     "metadata": {},
     "output_type": "execute_result"
    }
   ],
   "source": [
    "function slstm(w,h1,h2,c1,c2)\n",
    "    hsize = size(h1,1)\n",
    "    h = vcat(h1,h2)\n",
    "    gates = w[3] * h .+ w[4]\n",
    "    i  = sigm.(gates[1:hsize,:])\n",
    "    o  = sigm.(gates[1+hsize:2hsize,:])\n",
    "    u  = sigm.(gates[1+2hsize:3hsize,:])\n",
    "    f1 = sigm.(w[5] * h1 .+ w[7])\n",
    "    f2 = sigm.(w[6] * h2 .+ w[7])\n",
    "    c  = i .* u .+ f1 .* c1 .+ f2 .* c2\n",
    "    h  = o .* tanh.(c)\n",
    "    return (h,c)\n",
    "end"
   ]
  },
  {
   "cell_type": "code",
   "execution_count": 10,
   "metadata": {},
   "outputs": [
    {
     "data": {
      "text/plain": [
       "(::getfield(Main, Symbol(\"#helper#5\"))) (generic function with 1 method)"
      ]
     },
     "execution_count": 10,
     "metadata": {},
     "output_type": "execute_result"
    }
   ],
   "source": [
    "let\n",
    "    global traverse\n",
    "    function traverse(w, tree)\n",
    "        h,c,hs,ys = helper(w,tree, Any[], Any[])\n",
    "        return hs,ys\n",
    "    end\n",
    "\n",
    "    function helper(w,t,hs,ys)\n",
    "        h = c = nothing\n",
    "        if length(t.children) == 1 && isleaf(t.children[1])\n",
    "            l = t.children[1]\n",
    "            h,c = lstm(w,l.data)\n",
    "        elseif length(t.children) == 2\n",
    "            t1,t2 = t.children[1], t.children[2]\n",
    "            h1,c1,hs,ys = helper(w,t1,hs,ys)\n",
    "            h2,c2,hs,ys = helper(w,t2,hs,ys)\n",
    "            h,c = slstm(w,h1,h2,c1,c2)\n",
    "        else\n",
    "            error(\"invalid tree\")\n",
    "        end\n",
    "        return (h,c,[hs...,h],[ys...,t.data])\n",
    "    end\n",
    "end"
   ]
  },
  {
   "cell_type": "code",
   "execution_count": 11,
   "metadata": {},
   "outputs": [
    {
     "data": {
      "text/plain": [
       "loss (generic function with 2 methods)"
      ]
     },
     "execution_count": 11,
     "metadata": {},
     "output_type": "execute_result"
    }
   ],
   "source": [
    "# treenn loss function\n",
    "function loss(w, tree, values=[])\n",
    "    hs, ygold = traverse(w, tree)\n",
    "    ypred = w[end-1] * hcat(hs...)\n",
    "    len = length(ygold)\n",
    "    (lossval, cnt) = nll(ypred,ygold; average=false)\n",
    "    @assert len == cnt\n",
    "    push!(values, lossval); push!(values, len)\n",
    "    return lossval/len\n",
    "end"
   ]
  },
  {
   "cell_type": "code",
   "execution_count": 12,
   "metadata": {},
   "outputs": [
    {
     "data": {
      "text/plain": [
       "predict (generic function with 1 method)"
      ]
     },
     "execution_count": 12,
     "metadata": {},
     "output_type": "execute_result"
    }
   ],
   "source": [
    "# tag given input sentence\n",
    "function predict(w,tree)\n",
    "    total = 0\n",
    "    hs, ys = traverse(w, tree)\n",
    "    ypred = w[end-1] * hs[end]\n",
    "    ypred = convert(Array{Float32}, ypred)[:]\n",
    "    return (argmax(ypred),length(ys))\n",
    "end"
   ]
  },
  {
   "cell_type": "code",
   "execution_count": 14,
   "metadata": {},
   "outputs": [
    {
     "data": {
      "text/plain": [
       "train! (generic function with 1 method)"
      ]
     },
     "execution_count": 14,
     "metadata": {},
     "output_type": "execute_result"
    }
   ],
   "source": [
    "\n",
    "lossgradient = grad(loss)\n",
    "\n",
    "function train!(w,tree,opt)\n",
    "    values = []\n",
    "    gloss = lossgradient(w, tree, values)\n",
    "    update!(w,gloss,opt)\n",
    "    return (values...,)\n",
    "end"
   ]
  },
  {
   "cell_type": "code",
   "execution_count": 15,
   "metadata": {},
   "outputs": [
    {
     "name": "stdout",
     "output_type": "stream",
     "text": [
      "This program has requested access to the data dependency PTBLM.\n",
      "which is not currently installed. It can be installed automatically, and you will not see this message again.\n",
      "\n",
      "Dataset: Penn Treebank sentences for language modeling\n",
      "Website: https://github.com/tomsercu/lstm\n",
      "\n",
      "-----------------------------------------------------\n",
      "WARNING: EXPERIMENTAL STATUS\n",
      "Please be aware that this dataset is from a secondary\n",
      "source. The provided interface by this package is not\n",
      "as developed as those for other datasets. We would\n",
      "welcome any contribution to provide this dataset in a\n",
      "more mature manner.\n",
      "------------------------------------------------------\n",
      "\n",
      "The PTBLM dataset consists of Penn Treebank sentences\n",
      "for language modeling, available from tomsercu/lstm.\n",
      "The unknown words are replaced with <unk> so that the\n",
      "total vocaburary size becomes 10000.\n",
      "\n",
      "The files are available for download at the github\n",
      "repository linked above. Note that using the data\n",
      "responsibly and respecting copyright remains your\n",
      "responsibility.\n",
      "\n",
      "\n",
      "\n",
      "Do you want to download the dataset from [\"https://raw.githubusercontent.com/tomsercu/lstm/master/data/ptb.train.txt\", \"https://raw.githubusercontent.com/tomsercu/lstm/master/data/ptb.test.txt\"] to \"/home/emoryfreitas/.julia/datadeps/PTBLM\"?\n",
      "[y/n]\n",
      "stdin> y\n"
     ]
    },
    {
     "data": {
      "text/plain": [
       "(Array{String,1}[[\"aer\", \"banknote\", \"berlitz\", \"calloway\", \"centrust\", \"cluett\", \"fromstein\", \"gitano\", \"guterman\", \"hydro-quebec\"  …  \"nahb\", \"punts\", \"rake\", \"regatta\", \"rubens\", \"sim\", \"snack-food\", \"ssangyong\", \"swapo\", \"wachter\"], [\"pierre\", \"<unk>\", \"N\", \"years\", \"old\", \"will\", \"join\", \"the\", \"board\", \"as\", \"a\", \"nonexecutive\", \"director\", \"nov.\", \"N\"], [\"mr.\", \"<unk>\", \"is\", \"chairman\", \"of\", \"<unk>\", \"n.v.\", \"the\", \"dutch\", \"publishing\", \"group\"], [\"rudolph\", \"<unk>\", \"N\", \"years\", \"old\", \"and\", \"former\", \"chairman\", \"of\", \"consolidated\"  …  \"was\", \"named\", \"a\", \"nonexecutive\", \"director\", \"of\", \"this\", \"british\", \"industrial\", \"conglomerate\"], [\"a\", \"form\", \"of\", \"asbestos\", \"once\", \"used\", \"to\", \"make\", \"kent\", \"cigarette\"  …  \"exposed\", \"to\", \"it\", \"more\", \"than\", \"N\", \"years\", \"ago\", \"researchers\", \"reported\"], [\"the\", \"asbestos\", \"fiber\", \"<unk>\", \"is\", \"unusually\", \"<unk>\", \"once\", \"it\", \"enters\"  …  \"it\", \"causing\", \"symptoms\", \"that\", \"show\", \"up\", \"decades\", \"later\", \"researchers\", \"said\"], [\"<unk>\", \"inc.\", \"the\", \"unit\", \"of\", \"new\", \"york-based\", \"<unk>\", \"corp.\", \"that\"  …  \"stopped\", \"using\", \"<unk>\", \"in\", \"its\", \"<unk>\", \"cigarette\", \"filters\", \"in\", \"N\"], [\"although\", \"preliminary\", \"findings\", \"were\", \"reported\", \"more\", \"than\", \"a\", \"year\", \"ago\"  …  \"a\", \"forum\", \"likely\", \"to\", \"bring\", \"new\", \"attention\", \"to\", \"the\", \"problem\"], [\"a\", \"<unk>\", \"<unk>\", \"said\", \"this\", \"is\", \"an\", \"old\", \"story\"], [\"we\", \"'re\", \"talking\", \"about\", \"years\", \"ago\", \"before\", \"anyone\", \"heard\", \"of\", \"asbestos\", \"having\", \"any\", \"questionable\", \"properties\"]  …  [\"but\", \"the\", \"test\", \"may\", \"prove\", \"to\", \"be\", \"more\", \"sensitive\", \"in\"  …  \"tumor\", \"has\", \"spread\", \"or\", \"returned\", \"following\", \"treatment\", \"dr.\", \"wilson\", \"said\"], [\"we\", \"do\", \"n't\", \"know\", \"yet\", \"how\", \"useful\", \"it\", \"'s\", \"going\", \"to\", \"be\", \"he\", \"said\"], [\"<unk>\", \"a\", \"<unk>\", \"developer\", \"of\", \"genetic\", \"medical\", \"tests\", \"projects\", \"that\"  …  \"profit\", \"during\", \"the\", \"first\", \"quarter\", \"of\", \"N\", \"mr.\", \"turner\", \"said\"], [\"the\", \"company\", \"will\", \"charge\", \"\\$\", \"N\", \"for\", \"a\", \"test\", \"and\"  …  \"test\", \"during\", \"the\", \"first\", \"N\", \"months\", \"of\", \"marketing\", \"he\", \"said\"], [\"unilab\", \"corp.\", \"<unk>\", \"ga.\", \"said\", \"it\", \"acquired\", \"the\", \"clinical\", \"laboratories\"  …  \"a\", \"cash\", \"and\", \"securities\", \"transaction\", \"valued\", \"at\", \"\\$\", \"N\", \"million\"], [\"unilab\", \"said\", \"its\", \"wholly\", \"owned\", \"<unk>\", \"inc.\", \"unit\", \"paid\", \"\\$\"  …  \"stock\", \"to\", \"acquire\", \"central\", \"'s\", \"labs\", \"in\", \"the\", \"western\", \"u.s.\"], [\"unilab\", \"which\", \"provides\", \"clinical\", \"laboratory\", \"services\", \"<unk>\", \"with\", \"central\", \"based\", \"in\", \"<unk>\", \"calif.\", \"in\", \"a\", \"number\", \"of\", \"areas\"], [\"beyond\", \"removing\", \"a\", \"competitor\", \"the\", \"combination\", \"should\", \"provide\", \"<unk>\", \"said\", \"fred\", \"<unk>\", \"unilab\", \"'s\", \"chief\", \"financial\", \"officer\"], [\"it\", \"also\", \"will\", \"hand\", \"unilab\", \"new\", \"markets\"], [\"in\", \"los\", \"angeles\", \"for\", \"example\", \"central\", \"has\", \"had\", \"a\", \"strong\"  …  \"'s\", \"presence\", \"has\", \"been\", \"less\", \"prominent\", \"according\", \"to\", \"mr.\", \"<unk>\"]], Array{String,1}[[\"banknote\", \"berlitz\", \"calloway\", \"centrust\", \"cluett\", \"fromstein\", \"gitano\", \"guterman\", \"hydro-quebec\", \"ipo\"  …  \"punts\", \"rake\", \"regatta\", \"rubens\", \"sim\", \"snack-food\", \"ssangyong\", \"swapo\", \"wachter\", \"<eos>\"], [\"<unk>\", \"N\", \"years\", \"old\", \"will\", \"join\", \"the\", \"board\", \"as\", \"a\", \"nonexecutive\", \"director\", \"nov.\", \"N\", \"<eos>\"], [\"<unk>\", \"is\", \"chairman\", \"of\", \"<unk>\", \"n.v.\", \"the\", \"dutch\", \"publishing\", \"group\", \"<eos>\"], [\"<unk>\", \"N\", \"years\", \"old\", \"and\", \"former\", \"chairman\", \"of\", \"consolidated\", \"gold\"  …  \"named\", \"a\", \"nonexecutive\", \"director\", \"of\", \"this\", \"british\", \"industrial\", \"conglomerate\", \"<eos>\"], [\"form\", \"of\", \"asbestos\", \"once\", \"used\", \"to\", \"make\", \"kent\", \"cigarette\", \"filters\"  …  \"to\", \"it\", \"more\", \"than\", \"N\", \"years\", \"ago\", \"researchers\", \"reported\", \"<eos>\"], [\"asbestos\", \"fiber\", \"<unk>\", \"is\", \"unusually\", \"<unk>\", \"once\", \"it\", \"enters\", \"the\"  …  \"causing\", \"symptoms\", \"that\", \"show\", \"up\", \"decades\", \"later\", \"researchers\", \"said\", \"<eos>\"], [\"inc.\", \"the\", \"unit\", \"of\", \"new\", \"york-based\", \"<unk>\", \"corp.\", \"that\", \"makes\"  …  \"using\", \"<unk>\", \"in\", \"its\", \"<unk>\", \"cigarette\", \"filters\", \"in\", \"N\", \"<eos>\"], [\"preliminary\", \"findings\", \"were\", \"reported\", \"more\", \"than\", \"a\", \"year\", \"ago\", \"the\"  …  \"forum\", \"likely\", \"to\", \"bring\", \"new\", \"attention\", \"to\", \"the\", \"problem\", \"<eos>\"], [\"<unk>\", \"<unk>\", \"said\", \"this\", \"is\", \"an\", \"old\", \"story\", \"<eos>\"], [\"'re\", \"talking\", \"about\", \"years\", \"ago\", \"before\", \"anyone\", \"heard\", \"of\", \"asbestos\", \"having\", \"any\", \"questionable\", \"properties\", \"<eos>\"]  …  [\"the\", \"test\", \"may\", \"prove\", \"to\", \"be\", \"more\", \"sensitive\", \"in\", \"determining\"  …  \"has\", \"spread\", \"or\", \"returned\", \"following\", \"treatment\", \"dr.\", \"wilson\", \"said\", \"<eos>\"], [\"do\", \"n't\", \"know\", \"yet\", \"how\", \"useful\", \"it\", \"'s\", \"going\", \"to\", \"be\", \"he\", \"said\", \"<eos>\"], [\"a\", \"<unk>\", \"developer\", \"of\", \"genetic\", \"medical\", \"tests\", \"projects\", \"that\", \"the\"  …  \"during\", \"the\", \"first\", \"quarter\", \"of\", \"N\", \"mr.\", \"turner\", \"said\", \"<eos>\"], [\"company\", \"will\", \"charge\", \"\\$\", \"N\", \"for\", \"a\", \"test\", \"and\", \"projects\"  …  \"during\", \"the\", \"first\", \"N\", \"months\", \"of\", \"marketing\", \"he\", \"said\", \"<eos>\"], [\"corp.\", \"<unk>\", \"ga.\", \"said\", \"it\", \"acquired\", \"the\", \"clinical\", \"laboratories\", \"of\"  …  \"cash\", \"and\", \"securities\", \"transaction\", \"valued\", \"at\", \"\\$\", \"N\", \"million\", \"<eos>\"], [\"said\", \"its\", \"wholly\", \"owned\", \"<unk>\", \"inc.\", \"unit\", \"paid\", \"\\$\", \"N\"  …  \"to\", \"acquire\", \"central\", \"'s\", \"labs\", \"in\", \"the\", \"western\", \"u.s.\", \"<eos>\"], [\"which\", \"provides\", \"clinical\", \"laboratory\", \"services\", \"<unk>\", \"with\", \"central\", \"based\", \"in\", \"<unk>\", \"calif.\", \"in\", \"a\", \"number\", \"of\", \"areas\", \"<eos>\"], [\"removing\", \"a\", \"competitor\", \"the\", \"combination\", \"should\", \"provide\", \"<unk>\", \"said\", \"fred\", \"<unk>\", \"unilab\", \"'s\", \"chief\", \"financial\", \"officer\", \"<eos>\"], [\"also\", \"will\", \"hand\", \"unilab\", \"new\", \"markets\", \"<eos>\"], [\"los\", \"angeles\", \"for\", \"example\", \"central\", \"has\", \"had\", \"a\", \"strong\", \"market\"  …  \"presence\", \"has\", \"been\", \"less\", \"prominent\", \"according\", \"to\", \"mr.\", \"<unk>\", \"<eos>\"]])"
      ]
     },
     "execution_count": 15,
     "metadata": {},
     "output_type": "execute_result"
    }
   ],
   "source": [
    "#load train dataset\n",
    "x, y = PTBLM.traindata()"
   ]
  },
  {
   "cell_type": "code",
   "execution_count": 28,
   "metadata": {},
   "outputs": [
    {
     "name": "stdout",
     "output_type": "stream",
     "text": [
      "[\"aer\", \"banknote\", \"berlitz\", \"calloway\", \"centrust\", \"cluett\", \"fromstein\", \"gitano\", \"guterman\", \"hydro-quebec\", \"ipo\", \"kia\", \"memotec\", \"mlx\", \"nahb\", \"punts\", \"rake\", \"regatta\", \"rubens\", \"sim\", \"snack-food\", \"ssangyong\", \"swapo\", \"wachter\"]\n",
      "[\"banknote\", \"berlitz\", \"calloway\", \"centrust\", \"cluett\", \"fromstein\", \"gitano\", \"guterman\", \"hydro-quebec\", \"ipo\", \"kia\", \"memotec\", \"mlx\", \"nahb\", \"punts\", \"rake\", \"regatta\", \"rubens\", \"sim\", \"snack-food\", \"ssangyong\", \"swapo\", \"wachter\", \"<eos>\"]"
     ]
    }
   ],
   "source": [
    "println(x[1])\n",
    "print(y[1])"
   ]
  }
 ],
 "metadata": {
  "kernelspec": {
   "display_name": "Julia 1.0.5",
   "language": "julia",
   "name": "julia-1.0"
  },
  "language_info": {
   "file_extension": ".jl",
   "mimetype": "application/julia",
   "name": "julia",
   "version": "1.0.5"
  }
 },
 "nbformat": 4,
 "nbformat_minor": 4
}
