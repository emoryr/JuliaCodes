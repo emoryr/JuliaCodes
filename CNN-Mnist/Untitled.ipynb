{
 "cells": [
  {
   "cell_type": "code",
   "execution_count": 30,
   "metadata": {},
   "outputs": [
    {
     "name": "stdout",
     "output_type": "stream",
     "text": [
      "(19, 348)\n",
      "19\n"
     ]
    },
    {
     "ename": "MethodError",
     "evalue": "MethodError: no method matching (::Dense{typeof(identity),Array{Float32,2},Array{Float32,1}})(::Float64)\nClosest candidates are:\n  Dense(!Matched::AbstractArray{T<:Union{Float32, Float64},N} where N) where {T<:Union{Float32, Float64}, W<:(AbstractArray{T<:Union{Float32, Float64},N} where N)} at /home/emoryfreitas/.julia/packages/Flux/NpkMm/src/layers/basic.jl:126\n  Dense(!Matched::AbstractArray{#s108,N} where N where #s108<:AbstractFloat) where {T<:Union{Float32, Float64}, W<:(AbstractArray{T<:Union{Float32, Float64},N} where N)} at /home/emoryfreitas/.julia/packages/Flux/NpkMm/src/layers/basic.jl:129\n  Dense(!Matched::AbstractArray) at /home/emoryfreitas/.julia/packages/Flux/NpkMm/src/layers/basic.jl:114",
     "output_type": "error",
     "traceback": [
      "MethodError: no method matching (::Dense{typeof(identity),Array{Float32,2},Array{Float32,1}})(::Float64)\nClosest candidates are:\n  Dense(!Matched::AbstractArray{T<:Union{Float32, Float64},N} where N) where {T<:Union{Float32, Float64}, W<:(AbstractArray{T<:Union{Float32, Float64},N} where N)} at /home/emoryfreitas/.julia/packages/Flux/NpkMm/src/layers/basic.jl:126\n  Dense(!Matched::AbstractArray{#s108,N} where N where #s108<:AbstractFloat) where {T<:Union{Float32, Float64}, W<:(AbstractArray{T<:Union{Float32, Float64},N} where N)} at /home/emoryfreitas/.julia/packages/Flux/NpkMm/src/layers/basic.jl:129\n  Dense(!Matched::AbstractArray) at /home/emoryfreitas/.julia/packages/Flux/NpkMm/src/layers/basic.jl:114",
      "",
      "Stacktrace:",
      " [1] macro expansion at /home/emoryfreitas/.julia/packages/Zygote/iOhwI/src/compiler/interface2.jl:0 [inlined]",
      " [2] _pullback(::Zygote.Context, ::Dense{typeof(identity),Array{Float32,2},Array{Float32,1}}, ::Float64) at /home/emoryfreitas/.julia/packages/Zygote/iOhwI/src/compiler/interface2.jl:7",
      " [3] applychain at /home/emoryfreitas/.julia/packages/Flux/NpkMm/src/layers/basic.jl:30 [inlined]",
      " [4] _pullback(::Zygote.Context, ::typeof(Flux.applychain), ::Tuple{Dense{typeof(identity),Array{Float32,2},Array{Float32,1}},Dense{typeof(identity),Array{Float32,2},Array{Float32,1}},typeof(softmax)}, ::Float64) at /home/emoryfreitas/.julia/packages/Zygote/iOhwI/src/compiler/interface2.jl:0",
      " [5] Chain at /home/emoryfreitas/.julia/packages/Flux/NpkMm/src/layers/basic.jl:32 [inlined]",
      " [6] _pullback(::Zygote.Context, ::Chain{Tuple{Dense{typeof(identity),Array{Float32,2},Array{Float32,1}},Dense{typeof(identity),Array{Float32,2},Array{Float32,1}},typeof(softmax)}}, ::Float64) at /home/emoryfreitas/.julia/packages/Zygote/iOhwI/src/compiler/interface2.jl:0",
      " [7] loss at ./In[7]:14 [inlined]",
      " [8] _pullback(::Zygote.Context, ::typeof(loss), ::Float64, ::Float64) at /home/emoryfreitas/.julia/packages/Zygote/iOhwI/src/compiler/interface2.jl:0",
      " [9] adjoint at /home/emoryfreitas/.julia/packages/Zygote/iOhwI/src/lib/lib.jl:153 [inlined]",
      " [10] _pullback at /home/emoryfreitas/.julia/packages/ZygoteRules/6nssF/src/adjoint.jl:47 [inlined]",
      " [11] #17 at /home/emoryfreitas/.julia/packages/Flux/NpkMm/src/optimise/train.jl:88 [inlined]",
      " [12] _pullback(::Zygote.Context, ::getfield(Flux.Optimise, Symbol(\"##17#25\")){typeof(loss),Tuple{Float64,Float64}}) at /home/emoryfreitas/.julia/packages/Zygote/iOhwI/src/compiler/interface2.jl:0",
      " [13] pullback(::Function, ::Zygote.Params) at /home/emoryfreitas/.julia/packages/Zygote/iOhwI/src/compiler/interface.jl:105",
      " [14] gradient(::Function, ::Zygote.Params) at /home/emoryfreitas/.julia/packages/Zygote/iOhwI/src/compiler/interface.jl:46",
      " [15] macro expansion at /home/emoryfreitas/.julia/packages/Flux/NpkMm/src/optimise/train.jl:87 [inlined]",
      " [16] macro expansion at /home/emoryfreitas/.julia/packages/Juno/hEPx8/src/progress.jl:134 [inlined]",
      " [17] #train!#12(::getfield(Flux.Optimise, Symbol(\"##18#26\")), ::Function, ::typeof(loss), ::Zygote.Params, ::Array{Tuple{Float64,Float64},1}, ::ADAM) at /home/emoryfreitas/.julia/packages/Flux/NpkMm/src/optimise/train.jl:80",
      " [18] train!(::Function, ::Zygote.Params, ::Array{Tuple{Float64,Float64},1}, ::ADAM) at /home/emoryfreitas/.julia/packages/Flux/NpkMm/src/optimise/train.jl:78",
      " [19] top-level scope at In[30]:26"
     ]
    }
   ],
   "source": [
    "using LinearAlgebra, Flux, Base.Iterators, Statistics\n",
    "using CuArrays\n",
    "using Flux: onehotbatch, onecold, crossentropy, throttle\n",
    "\n",
    "trainX = rand(Float64, (190,348))\n",
    "trainY = rand(Float64, (19,1))\n",
    "\n",
    "classes = length(unique(trainY))\n",
    "println(size(trainX))\n",
    "println(classes)\n",
    "\n",
    "m = Chain(\n",
    "  Dense(190,8),\n",
    "  #LSTM(32,32),\n",
    "  Dense(8,19),\n",
    "  softmax)\n",
    "\n",
    "loss(x, y) = Flux.mse(m(x), y)\n",
    "\n",
    "accuracy(x, y) = mean(onecold(m(x)) .== onecold(y))\n",
    "\n",
    "dataset = [ (trainX[i], trainY[i])  for i = 1:size(trainX)[1]];\n",
    "\n",
    "evalcb = () -> @show(loss(trainX, trainY))\n",
    "opt = ADAM()\n",
    "\n",
    "Flux.train!(loss, params(m), dataset, opt)"
   ]
  },
  {
   "cell_type": "code",
   "execution_count": 4,
   "metadata": {},
   "outputs": [
    {
     "name": "stdout",
     "output_type": "stream",
     "text": [
      "\u001b[32m\u001b[1m Resolving\u001b[22m\u001b[39m package versions...\n",
      "\u001b[32m\u001b[1m Installed\u001b[22m\u001b[39m Tracker ─ v0.2.6\n",
      "\u001b[32m\u001b[1m  Updating\u001b[22m\u001b[39m `~/.julia/environments/v1.0/Project.toml`\n",
      " \u001b[90m [9f7883ad]\u001b[39m\u001b[92m + Tracker v0.2.6\u001b[39m\n",
      "\u001b[32m\u001b[1m  Updating\u001b[22m\u001b[39m `~/.julia/environments/v1.0/Manifest.toml`\n",
      " \u001b[90m [9f7883ad]\u001b[39m\u001b[92m + Tracker v0.2.6\u001b[39m\n"
     ]
    }
   ],
   "source": [
    "import Pkg; Pkg.add(\"Tracker\")"
   ]
  }
 ],
 "metadata": {
  "kernelspec": {
   "display_name": "Julia 1.0.5",
   "language": "julia",
   "name": "julia-1.0"
  },
  "language_info": {
   "file_extension": ".jl",
   "mimetype": "application/julia",
   "name": "julia",
   "version": "1.0.5"
  }
 },
 "nbformat": 4,
 "nbformat_minor": 4
}
