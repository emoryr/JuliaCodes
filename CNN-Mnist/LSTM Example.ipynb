{
 "cells": [
  {
   "cell_type": "code",
   "execution_count": 6,
   "metadata": {},
   "outputs": [
    {
     "name": "stdout",
     "output_type": "stream",
     "text": [
      "Training loss before = 28738.599622982303\n",
      "Test loss before = 56855.57012622556\n"
     ]
    },
    {
     "name": "stderr",
     "output_type": "stream",
     "text": [
      "┌ Info: Epoch 1\n",
      "└ @ Main /home/emoryfreitas/.julia/packages/Flux/NpkMm/src/optimise/train.jl:119\n"
     ]
    },
    {
     "name": "stdout",
     "output_type": "stream",
     "text": [
      "sum(loss.(test_data, test_labels)) = 56838.658664039096\n",
      "sum(loss.(test_data, test_labels)) = 48325.28622767743\n"
     ]
    },
    {
     "name": "stderr",
     "output_type": "stream",
     "text": [
      "┌ Info: Epoch 2\n",
      "└ @ Main /home/emoryfreitas/.julia/packages/Flux/NpkMm/src/optimise/train.jl:119\n"
     ]
    },
    {
     "name": "stdout",
     "output_type": "stream",
     "text": [
      "sum(loss.(test_data, test_labels)) = 4539.116326307559\n"
     ]
    },
    {
     "name": "stderr",
     "output_type": "stream",
     "text": [
      "┌ Info: Epoch 3\n",
      "└ @ Main /home/emoryfreitas/.julia/packages/Flux/NpkMm/src/optimise/train.jl:119\n"
     ]
    },
    {
     "name": "stdout",
     "output_type": "stream",
     "text": [
      "sum(loss.(test_data, test_labels)) = 4019.4370400076295\n"
     ]
    },
    {
     "name": "stderr",
     "output_type": "stream",
     "text": [
      "┌ Info: Epoch 4\n",
      "└ @ Main /home/emoryfreitas/.julia/packages/Flux/NpkMm/src/optimise/train.jl:119\n"
     ]
    },
    {
     "name": "stdout",
     "output_type": "stream",
     "text": [
      "sum(loss.(test_data, test_labels)) = 3160.8515734057537\n"
     ]
    },
    {
     "name": "stderr",
     "output_type": "stream",
     "text": [
      "┌ Info: Epoch 5\n",
      "└ @ Main /home/emoryfreitas/.julia/packages/Flux/NpkMm/src/optimise/train.jl:119\n"
     ]
    },
    {
     "name": "stdout",
     "output_type": "stream",
     "text": [
      "sum(loss.(test_data, test_labels)) = 2622.056858645405\n"
     ]
    },
    {
     "name": "stderr",
     "output_type": "stream",
     "text": [
      "┌ Info: Epoch 6\n",
      "└ @ Main /home/emoryfreitas/.julia/packages/Flux/NpkMm/src/optimise/train.jl:119\n"
     ]
    },
    {
     "name": "stdout",
     "output_type": "stream",
     "text": [
      "sum(loss.(test_data, test_labels)) = 1987.0751789573087\n"
     ]
    },
    {
     "name": "stderr",
     "output_type": "stream",
     "text": [
      "┌ Info: Epoch 7\n",
      "└ @ Main /home/emoryfreitas/.julia/packages/Flux/NpkMm/src/optimise/train.jl:119\n"
     ]
    },
    {
     "name": "stdout",
     "output_type": "stream",
     "text": [
      "sum(loss.(test_data, test_labels)) = 1032.095960395042\n"
     ]
    },
    {
     "name": "stderr",
     "output_type": "stream",
     "text": [
      "┌ Info: Epoch 8\n",
      "└ @ Main /home/emoryfreitas/.julia/packages/Flux/NpkMm/src/optimise/train.jl:119\n"
     ]
    },
    {
     "name": "stdout",
     "output_type": "stream",
     "text": [
      "sum(loss.(test_data, test_labels)) = 482.4493236747384\n"
     ]
    },
    {
     "name": "stderr",
     "output_type": "stream",
     "text": [
      "┌ Info: Epoch 9\n",
      "└ @ Main /home/emoryfreitas/.julia/packages/Flux/NpkMm/src/optimise/train.jl:119\n"
     ]
    },
    {
     "name": "stdout",
     "output_type": "stream",
     "text": [
      "sum(loss.(test_data, test_labels)) = 17.1694439962181\n"
     ]
    },
    {
     "name": "stderr",
     "output_type": "stream",
     "text": [
      "┌ Info: Epoch 10\n",
      "└ @ Main /home/emoryfreitas/.julia/packages/Flux/NpkMm/src/optimise/train.jl:119\n"
     ]
    },
    {
     "name": "stdout",
     "output_type": "stream",
     "text": [
      "sum(loss.(test_data, test_labels)) = 34.601635672808975\n"
     ]
    },
    {
     "name": "stderr",
     "output_type": "stream",
     "text": [
      "┌ Info: Epoch 11\n",
      "└ @ Main /home/emoryfreitas/.julia/packages/Flux/NpkMm/src/optimise/train.jl:119\n"
     ]
    },
    {
     "name": "stdout",
     "output_type": "stream",
     "text": [
      "sum(loss.(test_data, test_labels)) = 40.11898157809348\n"
     ]
    },
    {
     "name": "stderr",
     "output_type": "stream",
     "text": [
      "┌ Info: Epoch 12\n",
      "└ @ Main /home/emoryfreitas/.julia/packages/Flux/NpkMm/src/optimise/train.jl:119\n"
     ]
    },
    {
     "name": "stdout",
     "output_type": "stream",
     "text": [
      "sum(loss.(test_data, test_labels)) = 40.029688479828735\n"
     ]
    },
    {
     "name": "stderr",
     "output_type": "stream",
     "text": [
      "┌ Info: Epoch 13\n",
      "└ @ Main /home/emoryfreitas/.julia/packages/Flux/NpkMm/src/optimise/train.jl:119\n"
     ]
    },
    {
     "name": "stdout",
     "output_type": "stream",
     "text": [
      "sum(loss.(test_data, test_labels)) = 47.83626396495533\n"
     ]
    },
    {
     "name": "stderr",
     "output_type": "stream",
     "text": [
      "┌ Info: Epoch 14\n",
      "└ @ Main /home/emoryfreitas/.julia/packages/Flux/NpkMm/src/optimise/train.jl:119\n"
     ]
    },
    {
     "name": "stdout",
     "output_type": "stream",
     "text": [
      "sum(loss.(test_data, test_labels)) = 53.64699739702939\n"
     ]
    },
    {
     "name": "stderr",
     "output_type": "stream",
     "text": [
      "┌ Info: Epoch 15\n",
      "└ @ Main /home/emoryfreitas/.julia/packages/Flux/NpkMm/src/optimise/train.jl:119\n"
     ]
    },
    {
     "name": "stdout",
     "output_type": "stream",
     "text": [
      "sum(loss.(test_data, test_labels)) = 18.765808258312177\n"
     ]
    },
    {
     "name": "stderr",
     "output_type": "stream",
     "text": [
      "┌ Info: Epoch 16\n",
      "└ @ Main /home/emoryfreitas/.julia/packages/Flux/NpkMm/src/optimise/train.jl:119\n"
     ]
    },
    {
     "name": "stdout",
     "output_type": "stream",
     "text": [
      "sum(loss.(test_data, test_labels)) = 21.179019729308102\n"
     ]
    },
    {
     "name": "stderr",
     "output_type": "stream",
     "text": [
      "┌ Info: Epoch 17\n",
      "└ @ Main /home/emoryfreitas/.julia/packages/Flux/NpkMm/src/optimise/train.jl:119\n"
     ]
    },
    {
     "name": "stdout",
     "output_type": "stream",
     "text": [
      "sum(loss.(test_data, test_labels)) = 68.30404678891003\n"
     ]
    },
    {
     "name": "stderr",
     "output_type": "stream",
     "text": [
      "┌ Info: Epoch 18\n",
      "└ @ Main /home/emoryfreitas/.julia/packages/Flux/NpkMm/src/optimise/train.jl:119\n"
     ]
    },
    {
     "name": "stdout",
     "output_type": "stream",
     "text": [
      "sum(loss.(test_data, test_labels)) = 27.720244752277303\n"
     ]
    },
    {
     "name": "stderr",
     "output_type": "stream",
     "text": [
      "┌ Info: Epoch 19\n",
      "└ @ Main /home/emoryfreitas/.julia/packages/Flux/NpkMm/src/optimise/train.jl:119\n"
     ]
    },
    {
     "name": "stdout",
     "output_type": "stream",
     "text": [
      "sum(loss.(test_data, test_labels)) = 31.705385287902462\n"
     ]
    },
    {
     "name": "stderr",
     "output_type": "stream",
     "text": [
      "┌ Info: Epoch 20\n",
      "└ @ Main /home/emoryfreitas/.julia/packages/Flux/NpkMm/src/optimise/train.jl:119\n"
     ]
    },
    {
     "name": "stdout",
     "output_type": "stream",
     "text": [
      "sum(loss.(test_data, test_labels)) = 57.94570536804357\n"
     ]
    },
    {
     "name": "stderr",
     "output_type": "stream",
     "text": [
      "┌ Info: Epoch 21\n",
      "└ @ Main /home/emoryfreitas/.julia/packages/Flux/NpkMm/src/optimise/train.jl:119\n"
     ]
    },
    {
     "name": "stdout",
     "output_type": "stream",
     "text": [
      "sum(loss.(test_data, test_labels)) = 13.295772622560666\n"
     ]
    },
    {
     "name": "stderr",
     "output_type": "stream",
     "text": [
      "┌ Info: Epoch 22\n",
      "└ @ Main /home/emoryfreitas/.julia/packages/Flux/NpkMm/src/optimise/train.jl:119\n"
     ]
    },
    {
     "name": "stdout",
     "output_type": "stream",
     "text": [
      "sum(loss.(test_data, test_labels)) = 36.08657506587092\n"
     ]
    },
    {
     "name": "stderr",
     "output_type": "stream",
     "text": [
      "┌ Info: Epoch 23\n",
      "└ @ Main /home/emoryfreitas/.julia/packages/Flux/NpkMm/src/optimise/train.jl:119\n"
     ]
    },
    {
     "name": "stdout",
     "output_type": "stream",
     "text": [
      "sum(loss.(test_data, test_labels)) = 9.924635298620837\n"
     ]
    },
    {
     "name": "stderr",
     "output_type": "stream",
     "text": [
      "┌ Info: Epoch 24\n",
      "└ @ Main /home/emoryfreitas/.julia/packages/Flux/NpkMm/src/optimise/train.jl:119\n"
     ]
    },
    {
     "name": "stdout",
     "output_type": "stream",
     "text": [
      "sum(loss.(test_data, test_labels)) = 33.36238141242671\n"
     ]
    },
    {
     "name": "stderr",
     "output_type": "stream",
     "text": [
      "┌ Info: Epoch 25\n",
      "└ @ Main /home/emoryfreitas/.julia/packages/Flux/NpkMm/src/optimise/train.jl:119\n"
     ]
    },
    {
     "name": "stdout",
     "output_type": "stream",
     "text": [
      "sum(loss.(test_data, test_labels)) = 8.925530578268559\n"
     ]
    },
    {
     "name": "stderr",
     "output_type": "stream",
     "text": [
      "┌ Info: Epoch 26\n",
      "└ @ Main /home/emoryfreitas/.julia/packages/Flux/NpkMm/src/optimise/train.jl:119\n"
     ]
    },
    {
     "name": "stdout",
     "output_type": "stream",
     "text": [
      "sum(loss.(test_data, test_labels)) = 43.54831489538057\n"
     ]
    },
    {
     "name": "stderr",
     "output_type": "stream",
     "text": [
      "┌ Info: Epoch 27\n",
      "└ @ Main /home/emoryfreitas/.julia/packages/Flux/NpkMm/src/optimise/train.jl:119\n"
     ]
    },
    {
     "name": "stdout",
     "output_type": "stream",
     "text": [
      "sum(loss.(test_data, test_labels)) = 24.773282131951945\n"
     ]
    },
    {
     "name": "stderr",
     "output_type": "stream",
     "text": [
      "┌ Info: Epoch 28\n",
      "└ @ Main /home/emoryfreitas/.julia/packages/Flux/NpkMm/src/optimise/train.jl:119\n"
     ]
    },
    {
     "name": "stdout",
     "output_type": "stream",
     "text": [
      "sum(loss.(test_data, test_labels)) = 33.87782247821441\n"
     ]
    },
    {
     "name": "stderr",
     "output_type": "stream",
     "text": [
      "┌ Info: Epoch 29\n",
      "└ @ Main /home/emoryfreitas/.julia/packages/Flux/NpkMm/src/optimise/train.jl:119\n"
     ]
    },
    {
     "name": "stdout",
     "output_type": "stream",
     "text": [
      "sum(loss.(test_data, test_labels)) = 26.441601074066693\n"
     ]
    },
    {
     "name": "stderr",
     "output_type": "stream",
     "text": [
      "┌ Info: Epoch 30\n",
      "└ @ Main /home/emoryfreitas/.julia/packages/Flux/NpkMm/src/optimise/train.jl:119\n"
     ]
    },
    {
     "name": "stdout",
     "output_type": "stream",
     "text": [
      "sum(loss.(test_data, test_labels)) = 73.58762165313166\n"
     ]
    },
    {
     "name": "stderr",
     "output_type": "stream",
     "text": [
      "┌ Info: Epoch 31\n",
      "└ @ Main /home/emoryfreitas/.julia/packages/Flux/NpkMm/src/optimise/train.jl:119\n"
     ]
    },
    {
     "name": "stdout",
     "output_type": "stream",
     "text": [
      "sum(loss.(test_data, test_labels)) = 15.478175814727493\n"
     ]
    },
    {
     "name": "stderr",
     "output_type": "stream",
     "text": [
      "┌ Info: Epoch 32\n",
      "└ @ Main /home/emoryfreitas/.julia/packages/Flux/NpkMm/src/optimise/train.jl:119\n"
     ]
    },
    {
     "name": "stdout",
     "output_type": "stream",
     "text": [
      "sum(loss.(test_data, test_labels)) = 31.700111218454467\n"
     ]
    },
    {
     "name": "stderr",
     "output_type": "stream",
     "text": [
      "┌ Info: Epoch 33\n",
      "└ @ Main /home/emoryfreitas/.julia/packages/Flux/NpkMm/src/optimise/train.jl:119\n"
     ]
    },
    {
     "name": "stdout",
     "output_type": "stream",
     "text": [
      "sum(loss.(test_data, test_labels)) = 32.644846329031246\n"
     ]
    },
    {
     "name": "stderr",
     "output_type": "stream",
     "text": [
      "┌ Info: Epoch 34\n",
      "└ @ Main /home/emoryfreitas/.julia/packages/Flux/NpkMm/src/optimise/train.jl:119\n"
     ]
    },
    {
     "name": "stdout",
     "output_type": "stream",
     "text": [
      "sum(loss.(test_data, test_labels)) = 7.339873224315917\n"
     ]
    },
    {
     "name": "stderr",
     "output_type": "stream",
     "text": [
      "┌ Info: Epoch 35\n",
      "└ @ Main /home/emoryfreitas/.julia/packages/Flux/NpkMm/src/optimise/train.jl:119\n"
     ]
    },
    {
     "name": "stdout",
     "output_type": "stream",
     "text": [
      "sum(loss.(test_data, test_labels)) = 37.25650422510425\n"
     ]
    },
    {
     "name": "stderr",
     "output_type": "stream",
     "text": [
      "┌ Info: Epoch 36\n",
      "└ @ Main /home/emoryfreitas/.julia/packages/Flux/NpkMm/src/optimise/train.jl:119\n"
     ]
    },
    {
     "name": "stdout",
     "output_type": "stream",
     "text": [
      "sum(loss.(test_data, test_labels)) = 9.066719025384039\n"
     ]
    },
    {
     "name": "stderr",
     "output_type": "stream",
     "text": [
      "┌ Info: Epoch 37\n",
      "└ @ Main /home/emoryfreitas/.julia/packages/Flux/NpkMm/src/optimise/train.jl:119\n"
     ]
    },
    {
     "name": "stdout",
     "output_type": "stream",
     "text": [
      "sum(loss.(test_data, test_labels)) = 20.31696387435766\n"
     ]
    },
    {
     "name": "stderr",
     "output_type": "stream",
     "text": [
      "┌ Info: Epoch 38\n",
      "└ @ Main /home/emoryfreitas/.julia/packages/Flux/NpkMm/src/optimise/train.jl:119\n"
     ]
    },
    {
     "name": "stdout",
     "output_type": "stream",
     "text": [
      "sum(loss.(test_data, test_labels)) = 23.67403261655109\n"
     ]
    },
    {
     "name": "stderr",
     "output_type": "stream",
     "text": [
      "┌ Info: Epoch 39\n",
      "└ @ Main /home/emoryfreitas/.julia/packages/Flux/NpkMm/src/optimise/train.jl:119\n"
     ]
    },
    {
     "name": "stdout",
     "output_type": "stream",
     "text": [
      "sum(loss.(test_data, test_labels)) = 16.4697408844107\n"
     ]
    },
    {
     "name": "stderr",
     "output_type": "stream",
     "text": [
      "┌ Info: Epoch 40\n",
      "└ @ Main /home/emoryfreitas/.julia/packages/Flux/NpkMm/src/optimise/train.jl:119\n"
     ]
    },
    {
     "name": "stdout",
     "output_type": "stream",
     "text": [
      "sum(loss.(test_data, test_labels)) = 46.37106998767376\n"
     ]
    },
    {
     "name": "stderr",
     "output_type": "stream",
     "text": [
      "┌ Info: Epoch 41\n",
      "└ @ Main /home/emoryfreitas/.julia/packages/Flux/NpkMm/src/optimise/train.jl:119\n"
     ]
    },
    {
     "name": "stdout",
     "output_type": "stream",
     "text": [
      "sum(loss.(test_data, test_labels)) = 47.724489136499926\n"
     ]
    },
    {
     "name": "stderr",
     "output_type": "stream",
     "text": [
      "┌ Info: Epoch 42\n",
      "└ @ Main /home/emoryfreitas/.julia/packages/Flux/NpkMm/src/optimise/train.jl:119\n"
     ]
    },
    {
     "name": "stdout",
     "output_type": "stream",
     "text": [
      "sum(loss.(test_data, test_labels)) = 15.823037877852178\n"
     ]
    },
    {
     "name": "stderr",
     "output_type": "stream",
     "text": [
      "┌ Info: Epoch 43\n",
      "└ @ Main /home/emoryfreitas/.julia/packages/Flux/NpkMm/src/optimise/train.jl:119\n"
     ]
    },
    {
     "name": "stdout",
     "output_type": "stream",
     "text": [
      "sum(loss.(test_data, test_labels)) = 43.91808554940699\n"
     ]
    },
    {
     "name": "stderr",
     "output_type": "stream",
     "text": [
      "┌ Info: Epoch 44\n",
      "└ @ Main /home/emoryfreitas/.julia/packages/Flux/NpkMm/src/optimise/train.jl:119\n"
     ]
    },
    {
     "name": "stdout",
     "output_type": "stream",
     "text": [
      "sum(loss.(test_data, test_labels)) = 16.251334042385423\n"
     ]
    },
    {
     "name": "stderr",
     "output_type": "stream",
     "text": [
      "┌ Info: Epoch 45\n",
      "└ @ Main /home/emoryfreitas/.julia/packages/Flux/NpkMm/src/optimise/train.jl:119\n"
     ]
    },
    {
     "name": "stdout",
     "output_type": "stream",
     "text": [
      "sum(loss.(test_data, test_labels)) = 36.13019392217473\n"
     ]
    },
    {
     "name": "stderr",
     "output_type": "stream",
     "text": [
      "┌ Info: Epoch 46\n",
      "└ @ Main /home/emoryfreitas/.julia/packages/Flux/NpkMm/src/optimise/train.jl:119\n"
     ]
    },
    {
     "name": "stdout",
     "output_type": "stream",
     "text": [
      "sum(loss.(test_data, test_labels)) = 39.92448349928947\n"
     ]
    },
    {
     "name": "stderr",
     "output_type": "stream",
     "text": [
      "┌ Info: Epoch 47\n",
      "└ @ Main /home/emoryfreitas/.julia/packages/Flux/NpkMm/src/optimise/train.jl:119\n"
     ]
    },
    {
     "name": "stdout",
     "output_type": "stream",
     "text": [
      "sum(loss.(test_data, test_labels)) = 38.06263296285502\n"
     ]
    },
    {
     "name": "stderr",
     "output_type": "stream",
     "text": [
      "┌ Info: Epoch 48\n",
      "└ @ Main /home/emoryfreitas/.julia/packages/Flux/NpkMm/src/optimise/train.jl:119\n"
     ]
    },
    {
     "name": "stdout",
     "output_type": "stream",
     "text": [
      "sum(loss.(test_data, test_labels)) = 42.182911179632406\n"
     ]
    },
    {
     "name": "stderr",
     "output_type": "stream",
     "text": [
      "┌ Info: Epoch 49\n",
      "└ @ Main /home/emoryfreitas/.julia/packages/Flux/NpkMm/src/optimise/train.jl:119\n"
     ]
    },
    {
     "name": "stdout",
     "output_type": "stream",
     "text": [
      "sum(loss.(test_data, test_labels)) = 22.698289912518508\n"
     ]
    },
    {
     "name": "stderr",
     "output_type": "stream",
     "text": [
      "┌ Info: Epoch 50\n",
      "└ @ Main /home/emoryfreitas/.julia/packages/Flux/NpkMm/src/optimise/train.jl:119\n"
     ]
    },
    {
     "name": "stdout",
     "output_type": "stream",
     "text": [
      "Test loss after = 63.464639401712056\n"
     ]
    }
   ],
   "source": [
    "using Flux\n",
    "\n",
    "num_samples = 1000\n",
    "num_epochs = 50\n",
    "\n",
    "function generate_data(num_samples)\n",
    "\t# we just generate data of variable length from 2 to 7 elements with each element being\n",
    "\t# a float between 1 and 10, to keep it simple!\n",
    "\ttrain_data = [rand(1.0:10.0, rand(2:7)) for i in 1:num_samples]\n",
    "\ttrain_labels = (v -> sum(v)).(train_data)\n",
    "\n",
    "\t# why bother generating new data when you can just multiply your\n",
    "\t# test data! No really, in real models you never want to do this\n",
    "\t# because that means you're evaluating on your training data which\n",
    "\t# is a big no-no. For learning purposes, it works great!\n",
    "\ttest_data = 2 .* train_data\n",
    "\ttest_labels = 2 .* train_labels\n",
    "\n",
    "\ttrain_data, train_labels, test_data, test_labels\n",
    "end\n",
    "\n",
    "train_data, train_labels, test_data, test_labels = generate_data(num_samples)\n",
    "# we use no activation because tanh limits to the range -1,1 which is NOT\n",
    "# what you want out of a summation function\n",
    "simple_rnn = Flux.RNN(1, 1, (x -> x))\n",
    "\n",
    "function eval_model(x)\n",
    "    out = simple_rnn.(x)[end]\n",
    "    Flux.reset!(simple_rnn)\n",
    "    out\n",
    "end\n",
    "\n",
    "loss(x, y) = abs(sum((eval_model(x) .- y)))\n",
    "\n",
    "ps = Flux.params(simple_rnn)\n",
    "\n",
    "opt = Flux.ADAM()\n",
    "\n",
    "println(\"Training loss before = \", sum(loss.(train_data, train_labels)))\n",
    "println(\"Test loss before = \", sum(loss.(test_data, test_labels)))\n",
    "\n",
    "# callback function during training\n",
    "evalcb() = @show(sum(loss.(test_data, test_labels)))\n",
    "\n",
    "@epochs num_epochs Flux.train!(loss, ps, zip(train_data, train_labels), opt, cb = Flux.throttle(evalcb, 1))\n",
    "\n",
    "# after training, evaluate the loss\n",
    "println(\"Test loss after = \", sum(loss.(test_data, test_labels)))"
   ]
  }
 ],
 "metadata": {
  "kernelspec": {
   "display_name": "Julia 1.0.5",
   "language": "julia",
   "name": "julia-1.0"
  },
  "language_info": {
   "file_extension": ".jl",
   "mimetype": "application/julia",
   "name": "julia",
   "version": "1.0.5"
  }
 },
 "nbformat": 4,
 "nbformat_minor": 4
}
